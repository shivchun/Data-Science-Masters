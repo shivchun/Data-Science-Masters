{
 "cells": [
  {
   "cell_type": "markdown",
   "id": "26c0a953-de26-4961-8c3f-b85dcccc8325",
   "metadata": {},
   "source": [
    "# Q1. Explain Class and Object with respect to Object-Oriented Programming. Give a suitable example.\n",
    "\n",
    "## Class- class is a syntax or structure or container which is used to group data member with related functionalities.\n",
    "## Object- object is instace of class.\n",
    "\n",
    "### class CAR\n",
    "    data member\n",
    "    ------------\n",
    "    name\n",
    "    model\n",
    "    mac. year\n",
    "    \n",
    "    Operations\n",
    "    -----------\n",
    "    start\n",
    "    stop\n",
    "    \n",
    "### object = Mycar(tata,nexon,23-09-2022)\n",
    "    "
   ]
  },
  {
   "cell_type": "markdown",
   "id": "da186c18-98bd-40e1-8c49-395ee6595297",
   "metadata": {},
   "source": [
    "# Q2. Name the four pillars of OOPs.\n",
    "### 1. Encapsulation\n",
    "### 2. Inheritance\n",
    "### 3. Polymerphism\n",
    "### 4. Abstraction"
   ]
  },
  {
   "cell_type": "markdown",
   "id": "20141a17-478c-4bd6-820a-554d08d2faf8",
   "metadata": {},
   "source": [
    "# Q3. Explain why the __init__() function is used. Give a suitable example.\n",
    "\n",
    "### __init__ is a python constructor whenever we create object automatically __init__ method will be called."
   ]
  },
  {
   "cell_type": "markdown",
   "id": "d3fb005e-5cb2-4da6-a6a6-21950afd1d1a",
   "metadata": {},
   "source": [
    "# Q4. Why self is used in OOPs?\n",
    "\n",
    "### self is ussed to pointing the operation with the class."
   ]
  },
  {
   "cell_type": "code",
   "execution_count": null,
   "id": "d09d0b5c-9f9a-49aa-b45e-70e4c2020926",
   "metadata": {},
   "outputs": [],
   "source": [
    "# Q5. What is inheritance? Give an example for each type of inheritance.\n",
    "\n",
    "## In"
   ]
  }
 ],
 "metadata": {
  "kernelspec": {
   "display_name": "Python 3 (ipykernel)",
   "language": "python",
   "name": "python3"
  },
  "language_info": {
   "codemirror_mode": {
    "name": "ipython",
    "version": 3
   },
   "file_extension": ".py",
   "mimetype": "text/x-python",
   "name": "python",
   "nbconvert_exporter": "python",
   "pygments_lexer": "ipython3",
   "version": "3.10.8"
  }
 },
 "nbformat": 4,
 "nbformat_minor": 5
}
